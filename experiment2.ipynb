{
 "cells": [
  {
   "cell_type": "code",
   "execution_count": 1,
   "metadata": {},
   "outputs": [],
   "source": [
    "from matplotlib import pyplot as plt\n",
    "import pandas as pd\n",
    "import numpy as np\n",
    "import scikitplot as skplt"
   ]
  },
  {
   "cell_type": "code",
   "execution_count": 2,
   "metadata": {},
   "outputs": [],
   "source": [
    "from sklearn.model_selection import train_test_split\n",
    "from sklearn.preprocessing import MinMaxScaler\n",
    "from sklearn.naive_bayes import MultinomialNB\n",
    "from sklearn.metrics import accuracy_score\n",
    "from sklearn.decomposition import PCA"
   ]
  },
  {
   "cell_type": "code",
   "execution_count": 3,
   "metadata": {
    "pycharm": {
     "name": "#%%\n"
    }
   },
   "outputs": [],
   "source": [
    "data = pd.read_csv(\"data.csv\", header=None)"
   ]
  },
  {
   "cell_type": "code",
   "execution_count": 4,
   "metadata": {
    "pycharm": {
     "name": "#%%\n"
    }
   },
   "outputs": [
    {
     "data": {
      "text/plain": [
       "(1085, 3121)"
      ]
     },
     "execution_count": 4,
     "metadata": {},
     "output_type": "execute_result"
    }
   ],
   "source": [
    "data.shape"
   ]
  },
  {
   "cell_type": "code",
   "execution_count": 5,
   "metadata": {},
   "outputs": [],
   "source": [
    "data1 = data.fillna(data.mean())"
   ]
  },
  {
   "cell_type": "code",
   "execution_count": 6,
   "metadata": {},
   "outputs": [],
   "source": [
    "X = data1.iloc[:,0:3119]"
   ]
  },
  {
   "cell_type": "code",
   "execution_count": 7,
   "metadata": {},
   "outputs": [],
   "source": [
    "Y = data1[3120]"
   ]
  },
  {
   "cell_type": "code",
   "execution_count": 8,
   "metadata": {},
   "outputs": [
    {
     "name": "stdout",
     "output_type": "stream",
     "text": [
      "759 759\n",
      "326 326\n"
     ]
    }
   ],
   "source": [
    "X_train, X_test, Y_train, Y_test = train_test_split(X, Y, test_size=0.3, random_state=42)\n",
    "print(len(X_train), len(Y_train))\n",
    "print(len(X_test), len(Y_test))"
   ]
  },
  {
   "cell_type": "code",
   "execution_count": 9,
   "metadata": {},
   "outputs": [],
   "source": [
    "def preprocess1(x, target_dim=2):\n",
    "    scaler = MinMaxScaler()\n",
    "    pca = PCA(n_components=target_dim)\n",
    "    x = pca.fit_transform(x)\n",
    "#     print(pca.explained_variance_ratio_)\n",
    "#     print(x[0])\n",
    "    scaler.fit(x)\n",
    "    x_scaled = scaler.transform(x)\n",
    "    return x_scaled"
   ]
  },
  {
   "cell_type": "code",
   "execution_count": 10,
   "metadata": {},
   "outputs": [],
   "source": [
    "def get_bayes_predictor(x, y):\n",
    "    clf = MultinomialNB()\n",
    "    clf.fit(x, y)\n",
    "    return clf"
   ]
  },
  {
   "cell_type": "code",
   "execution_count": 11,
   "metadata": {},
   "outputs": [],
   "source": [
    "X_train_p1 = preprocess1(X_train, target_dim = 300)\n",
    "X_test_p1 = preprocess1(X_test, target_dim = 300)"
   ]
  },
  {
   "cell_type": "code",
   "execution_count": 12,
   "metadata": {},
   "outputs": [],
   "source": [
    "predictor_p1 = get_bayes_predictor(X_train_p1, Y_train)"
   ]
  },
  {
   "cell_type": "code",
   "execution_count": 13,
   "metadata": {},
   "outputs": [],
   "source": [
    "predictions_p1 = predictor_p1.predict(X_test_p1)"
   ]
  },
  {
   "cell_type": "code",
   "execution_count": 14,
   "metadata": {
    "scrolled": true
   },
   "outputs": [],
   "source": [
    "accuracy_p1 = accuracy_score(predictions_p1, Y_test)"
   ]
  },
  {
   "cell_type": "code",
   "execution_count": 15,
   "metadata": {
    "scrolled": true
   },
   "outputs": [
    {
     "name": "stdout",
     "output_type": "stream",
     "text": [
      "0.6993865030674846\n"
     ]
    }
   ],
   "source": [
    "print(accuracy_p1)"
   ]
  },
  {
   "cell_type": "code",
   "execution_count": 16,
   "metadata": {},
   "outputs": [
    {
     "name": "stdout",
     "output_type": "stream",
     "text": [
      "0.6993865030674846\n"
     ]
    }
   ],
   "source": [
    "score_p1 = predictor_p1.score(X_test_p1, Y_test)\n",
    "print(score_p1)"
   ]
  },
  {
   "cell_type": "code",
   "execution_count": 17,
   "metadata": {},
   "outputs": [
    {
     "name": "stdout",
     "output_type": "stream",
     "text": [
      "300 0.6993865030674846\n",
      "290 0.6993865030674846\n",
      "280 0.6993865030674846\n",
      "270 0.6993865030674846\n",
      "260 0.6993865030674846\n",
      "250 0.6993865030674846\n",
      "240 0.6993865030674846\n",
      "230 0.6993865030674846\n",
      "220 0.6993865030674846\n",
      "210 0.6993865030674846\n",
      "200 0.6993865030674846\n",
      "190 0.6993865030674846\n",
      "180 0.6993865030674846\n",
      "170 0.6993865030674846\n",
      "160 0.6993865030674846\n",
      "150 0.6993865030674846\n",
      "140 0.6993865030674846\n",
      "130 0.6993865030674846\n",
      "120 0.6993865030674846\n",
      "110 0.6993865030674846\n",
      "100 0.6993865030674846\n",
      "90 0.6993865030674846\n",
      "80 0.6993865030674846\n",
      "70 0.6993865030674846\n",
      "60 0.6993865030674846\n",
      "50 0.6993865030674846\n",
      "40 0.6993865030674846\n",
      "30 0.6993865030674846\n",
      "20 0.6993865030674846\n",
      "10 0.6993865030674846\n"
     ]
    }
   ],
   "source": [
    "for i in range(300,9,-10):\n",
    "    X_train_p2 = preprocess1(X_train, target_dim = i)\n",
    "    X_test_p2 = preprocess1(X_test, target_dim = i)\n",
    "    predictor_p2 = get_bayes_predictor(X_train_p2, Y_train)\n",
    "    predictions_p2 = predictor_p2.predict(X_test_p2)\n",
    "    score_p2 = predictor_p2.score(X_test_p2, Y_test)\n",
    "    print(i, score_p2)\n",
    "    if(score_p1-score_p2 > 0.01):\n",
    "        break"
   ]
  },
  {
   "cell_type": "code",
   "execution_count": 18,
   "metadata": {},
   "outputs": [
    {
     "name": "stdout",
     "output_type": "stream",
     "text": [
      "9 0.6993865030674846\n",
      "8 0.6993865030674846\n",
      "7 0.6993865030674846\n",
      "6 0.6993865030674846\n",
      "5 0.6993865030674846\n",
      "4 0.6993865030674846\n",
      "3 0.6993865030674846\n",
      "2 0.6993865030674846\n",
      "1 0.6993865030674846\n"
     ]
    }
   ],
   "source": [
    "for i in range(9,0,-1):\n",
    "    X_train_p2 = preprocess1(X_train, target_dim = i)\n",
    "    X_test_p2 = preprocess1(X_test, target_dim = i)\n",
    "    predictor_p2 = get_bayes_predictor(X_train_p2, Y_train)\n",
    "    predictions_p2 = predictor_p2.predict(X_test_p2)\n",
    "    score_p2 = predictor_p2.score(X_test_p2, Y_test)\n",
    "    print(i, score_p2)\n",
    "    if(score_p1-score_p2 > 0.01):\n",
    "        break"
   ]
  },
  {
   "cell_type": "code",
   "execution_count": 19,
   "metadata": {},
   "outputs": [
    {
     "data": {
      "text/plain": [
       "<matplotlib.axes._subplots.AxesSubplot at 0x1e7b14fd940>"
      ]
     },
     "execution_count": 19,
     "metadata": {},
     "output_type": "execute_result"
    },
    {
     "data": {
      "image/png": "[encoded data removed]",
      "text/plain": [
       "<Figure size 432x288 with 2 Axes>"
      ]
     },
     "metadata": {
      "needs_background": "light"
     },
     "output_type": "display_data"
    }
   ],
   "source": [
    "skplt.metrics.plot_confusion_matrix(Y_test, predictions_p2, normalize=True)"
   ]
  },
  {
   "cell_type": "code",
   "execution_count": 20,
   "metadata": {},
   "outputs": [
    {
     "name": "stderr",
     "output_type": "stream",
     "text": [
      "d:\\users\\hans tananda\\.virtualenvs\\compsci_361_ml\\lib\\site-packages\\sklearn\\utils\\deprecation.py:87: FutureWarning: Function plot_precision_recall_curve is deprecated; This will be removed in v0.5.0. Please use scikitplot.metrics.plot_precision_recall instead.\n",
      "  warnings.warn(msg, category=FutureWarning)\n"
     ]
    },
    {
     "data": {
      "image/png": "[encoded data removed]",
      "text/plain": [
       "<Figure size 432x288 with 1 Axes>"
      ]
     },
     "metadata": {
      "needs_background": "light"
     },
     "output_type": "display_data"
    }
   ],
   "source": [
    "skplt.metrics.plot_precision_recall_curve(Y_test, predictor_p1.predict_proba(X_test_p1))\n",
    "plt.show()"
   ]
  },
  {
   "cell_type": "code",
   "execution_count": null,
   "metadata": {},
   "outputs": [],
   "source": []
  }
 ],
 "metadata": {
  "kernelspec": {
   "display_name": "Python 3",
   "language": "python",
   "name": "python3"
  },
  "language_info": {
   "codemirror_mode": {
    "name": "ipython",
    "version": 3
   },
   "file_extension": ".py",
   "mimetype": "text/x-python",
   "name": "python",
   "nbconvert_exporter": "python",
   "pygments_lexer": "ipython3",
   "version": "3.7.0"
  }
 },
 "nbformat": 4,
 "nbformat_minor": 1
}
